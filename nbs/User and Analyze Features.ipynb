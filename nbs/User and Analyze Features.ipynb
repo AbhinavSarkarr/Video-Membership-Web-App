{
 "cells": [
  {
   "cell_type": "code",
   "execution_count": 1,
   "id": "ec036341-8eb7-4f1d-9614-d55420ce84c1",
   "metadata": {},
   "outputs": [
    {
     "name": "stdout",
     "output_type": "stream",
     "text": [
      "/home/jellyfish/Music/Video Membership/nbs\n"
     ]
    }
   ],
   "source": [
    "!pwd"
   ]
  },
  {
   "cell_type": "code",
   "execution_count": 2,
   "id": "48b15d2c-1d1e-426c-aca1-ec22f71e95fa",
   "metadata": {},
   "outputs": [
    {
     "name": "stdout",
     "output_type": "stream",
     "text": [
      "/home/jellyfish/Music/Video Membership\n"
     ]
    },
    {
     "name": "stderr",
     "output_type": "stream",
     "text": [
      "/home/jellyfish/Music/Video Membership/venv/lib/python3.9/site-packages/IPython/core/magics/osm.py:417: UserWarning: using dhist requires you to install the `pickleshare` library.\n",
      "  self.shell.db['dhist'] = compress_dhist(dhist)[-100:]\n"
     ]
    }
   ],
   "source": [
    "%cd .."
   ]
  },
  {
   "cell_type": "code",
   "execution_count": 3,
   "id": "54a59684-95ed-48d7-8cd5-f219bba27464",
   "metadata": {},
   "outputs": [],
   "source": [
    "from app import db\n",
    "from app.users.models import User\n",
    "from cassandra.cqlengine.management import sync_table"
   ]
  },
  {
   "cell_type": "code",
   "execution_count": 4,
   "id": "0c12c7f6-3b61-4ae9-9d4b-1e4e0149e23e",
   "metadata": {},
   "outputs": [],
   "source": [
    "db.get_session()\n",
    "sync_table(User)"
   ]
  },
  {
   "cell_type": "code",
   "execution_count": 5,
   "id": "3886f29b-168a-4b15-8d4f-24642f7e8823",
   "metadata": {},
   "outputs": [
    {
     "ename": "Exception",
     "evalue": "This Email is already registered",
     "output_type": "error",
     "traceback": [
      "\u001b[0;31m---------------------------------------------------------------------------\u001b[0m",
      "\u001b[0;31mException\u001b[0m                                 Traceback (most recent call last)",
      "Cell \u001b[0;32mIn[5], line 1\u001b[0m\n\u001b[0;32m----> 1\u001b[0m test_user \u001b[38;5;241m=\u001b[39m \u001b[43mUser\u001b[49m\u001b[38;5;241;43m.\u001b[39;49m\u001b[43mcreate_user\u001b[49m\u001b[43m(\u001b[49m\u001b[38;5;124;43m\"\u001b[39;49m\u001b[38;5;124;43mabhinavsarkar53@gmail.com\u001b[39;49m\u001b[38;5;124;43m\"\u001b[39;49m\u001b[43m,\u001b[49m\u001b[43m \u001b[49m\u001b[38;5;124;43m\"\u001b[39;49m\u001b[38;5;124;43m12qaz\u001b[39;49m\u001b[38;5;124;43m\"\u001b[39;49m\u001b[43m)\u001b[49m\n",
      "File \u001b[0;32m~/Music/Video Membership/app/users/models.py:41\u001b[0m, in \u001b[0;36mUser.create_user\u001b[0;34m(email, password)\u001b[0m\n\u001b[1;32m     39\u001b[0m q \u001b[38;5;241m=\u001b[39m User\u001b[38;5;241m.\u001b[39mobjects\u001b[38;5;241m.\u001b[39mfilter(email\u001b[38;5;241m=\u001b[39memail)\u001b[38;5;241m.\u001b[39mcount()\n\u001b[1;32m     40\u001b[0m \u001b[38;5;28;01mif\u001b[39;00m q \u001b[38;5;241m!=\u001b[39m \u001b[38;5;241m0\u001b[39m:\n\u001b[0;32m---> 41\u001b[0m     \u001b[38;5;28;01mraise\u001b[39;00m \u001b[38;5;167;01mException\u001b[39;00m(\u001b[38;5;124m\"\u001b[39m\u001b[38;5;124mThis Email is already registered\u001b[39m\u001b[38;5;124m\"\u001b[39m)\n\u001b[1;32m     42\u001b[0m valid, msg, email \u001b[38;5;241m=\u001b[39m validators\u001b[38;5;241m.\u001b[39m_validate_email(email)\n\u001b[1;32m     43\u001b[0m \u001b[38;5;28;01mif\u001b[39;00m \u001b[38;5;129;01mnot\u001b[39;00m valid:\n",
      "\u001b[0;31mException\u001b[0m: This Email is already registered"
     ]
    }
   ],
   "source": [
    "test_user = User.create_user(\"abhinavsarkar53@gmail.com\", \"12qaz\")"
   ]
  },
  {
   "cell_type": "code",
   "execution_count": 7,
   "id": "330ef58e-64bf-4f46-b259-b5fa30e1eaf7",
   "metadata": {},
   "outputs": [
    {
     "ename": "Exception",
     "evalue": "Invalid Email: The part after the @-sign contains invalid characters: '|'.",
     "output_type": "error",
     "traceback": [
      "\u001b[0;31m---------------------------------------------------------------------------\u001b[0m",
      "\u001b[0;31mException\u001b[0m                                 Traceback (most recent call last)",
      "Cell \u001b[0;32mIn[7], line 1\u001b[0m\n\u001b[0;32m----> 1\u001b[0m \u001b[43mUser\u001b[49m\u001b[38;5;241;43m.\u001b[39;49m\u001b[43mcreate_user\u001b[49m\u001b[43m(\u001b[49m\u001b[38;5;124;43m\"\u001b[39;49m\u001b[38;5;124;43mhululu@|lullu.com\u001b[39;49m\u001b[38;5;124;43m\"\u001b[39;49m\u001b[43m,\u001b[49m\u001b[43m \u001b[49m\u001b[38;5;124;43m\"\u001b[39;49m\u001b[38;5;124;43mAbhi98120@\u001b[39;49m\u001b[38;5;124;43m\"\u001b[39;49m\u001b[43m)\u001b[49m\n",
      "File \u001b[0;32m~/Music/Video Membership/app/users/models.py:44\u001b[0m, in \u001b[0;36mUser.create_user\u001b[0;34m(email, password)\u001b[0m\n\u001b[1;32m     42\u001b[0m valid, msg, email \u001b[38;5;241m=\u001b[39m validators\u001b[38;5;241m.\u001b[39m_validate_email(email)\n\u001b[1;32m     43\u001b[0m \u001b[38;5;28;01mif\u001b[39;00m \u001b[38;5;129;01mnot\u001b[39;00m valid:\n\u001b[0;32m---> 44\u001b[0m     \u001b[38;5;28;01mraise\u001b[39;00m \u001b[38;5;167;01mException\u001b[39;00m(\u001b[38;5;124mf\u001b[39m\u001b[38;5;124m\"\u001b[39m\u001b[38;5;124mInvalid Email: \u001b[39m\u001b[38;5;132;01m{\u001b[39;00mmsg\u001b[38;5;132;01m}\u001b[39;00m\u001b[38;5;124m\"\u001b[39m) \n\u001b[1;32m     45\u001b[0m obj \u001b[38;5;241m=\u001b[39m User(email\u001b[38;5;241m=\u001b[39memail)\n\u001b[1;32m     46\u001b[0m obj\u001b[38;5;241m.\u001b[39mset_password(password)\n",
      "\u001b[0;31mException\u001b[0m: Invalid Email: The part after the @-sign contains invalid characters: '|'."
     ]
    }
   ],
   "source": [
    "User.create_user(\"hululu@|lullu.com\", \"Abhi98120@\")"
   ]
  },
  {
   "cell_type": "code",
   "execution_count": 8,
   "id": "ed674653-ac1d-495d-8658-2526de120cd9",
   "metadata": {},
   "outputs": [
    {
     "ename": "Exception",
     "evalue": "This Email is already registered",
     "output_type": "error",
     "traceback": [
      "\u001b[0;31m---------------------------------------------------------------------------\u001b[0m",
      "\u001b[0;31mException\u001b[0m                                 Traceback (most recent call last)",
      "Cell \u001b[0;32mIn[8], line 1\u001b[0m\n\u001b[0;32m----> 1\u001b[0m test_user \u001b[38;5;241m=\u001b[39m \u001b[43mUser\u001b[49m\u001b[38;5;241;43m.\u001b[39;49m\u001b[43mcreate_user\u001b[49m\u001b[43m(\u001b[49m\u001b[38;5;124;43m\"\u001b[39;49m\u001b[38;5;124;43mabhinavsarkar99@gmail.com\u001b[39;49m\u001b[38;5;124;43m\"\u001b[39;49m\u001b[43m,\u001b[49m\u001b[43m \u001b[49m\u001b[38;5;124;43m\"\u001b[39;49m\u001b[38;5;124;43m12qaz\u001b[39;49m\u001b[38;5;124;43m\"\u001b[39;49m\u001b[43m)\u001b[49m\n",
      "File \u001b[0;32m~/Music/Video Membership/app/users/models.py:41\u001b[0m, in \u001b[0;36mUser.create_user\u001b[0;34m(email, password)\u001b[0m\n\u001b[1;32m     39\u001b[0m q \u001b[38;5;241m=\u001b[39m User\u001b[38;5;241m.\u001b[39mobjects\u001b[38;5;241m.\u001b[39mfilter(email\u001b[38;5;241m=\u001b[39memail)\u001b[38;5;241m.\u001b[39mcount()\n\u001b[1;32m     40\u001b[0m \u001b[38;5;28;01mif\u001b[39;00m q \u001b[38;5;241m!=\u001b[39m \u001b[38;5;241m0\u001b[39m:\n\u001b[0;32m---> 41\u001b[0m     \u001b[38;5;28;01mraise\u001b[39;00m \u001b[38;5;167;01mException\u001b[39;00m(\u001b[38;5;124m\"\u001b[39m\u001b[38;5;124mThis Email is already registered\u001b[39m\u001b[38;5;124m\"\u001b[39m)\n\u001b[1;32m     42\u001b[0m valid, msg, email \u001b[38;5;241m=\u001b[39m validators\u001b[38;5;241m.\u001b[39m_validate_email(email)\n\u001b[1;32m     43\u001b[0m \u001b[38;5;28;01mif\u001b[39;00m \u001b[38;5;129;01mnot\u001b[39;00m valid:\n",
      "\u001b[0;31mException\u001b[0m: This Email is already registered"
     ]
    }
   ],
   "source": [
    "test_user = User.create_user(\"abhinavsarkar99@gmail.com\", \"12qaz\")"
   ]
  },
  {
   "cell_type": "code",
   "execution_count": 9,
   "id": "60ab74b7-69e8-403a-9480-47be168ef9e2",
   "metadata": {},
   "outputs": [
    {
     "ename": "NameError",
     "evalue": "name 'test_user' is not defined",
     "output_type": "error",
     "traceback": [
      "\u001b[0;31m---------------------------------------------------------------------------\u001b[0m",
      "\u001b[0;31mNameError\u001b[0m                                 Traceback (most recent call last)",
      "Cell \u001b[0;32mIn[9], line 1\u001b[0m\n\u001b[0;32m----> 1\u001b[0m \u001b[43mtest_user\u001b[49m\u001b[38;5;241m.\u001b[39mpassword\n",
      "\u001b[0;31mNameError\u001b[0m: name 'test_user' is not defined"
     ]
    }
   ],
   "source": [
    "test_user.password"
   ]
  },
  {
   "cell_type": "code",
   "execution_count": 10,
   "id": "c7a0fa53-7e55-4b82-8cfe-9991956062fb",
   "metadata": {},
   "outputs": [
    {
     "ename": "NameError",
     "evalue": "name 'test_user' is not defined",
     "output_type": "error",
     "traceback": [
      "\u001b[0;31m---------------------------------------------------------------------------\u001b[0m",
      "\u001b[0;31mNameError\u001b[0m                                 Traceback (most recent call last)",
      "Cell \u001b[0;32mIn[10], line 1\u001b[0m\n\u001b[0;32m----> 1\u001b[0m \u001b[43mtest_user\u001b[49m\u001b[38;5;241m.\u001b[39mverify_password(\u001b[38;5;124m\"\u001b[39m\u001b[38;5;124m12qaz\u001b[39m\u001b[38;5;124m\"\u001b[39m)\n",
      "\u001b[0;31mNameError\u001b[0m: name 'test_user' is not defined"
     ]
    }
   ],
   "source": [
    "test_user.verify_password(\"12qaz\")"
   ]
  },
  {
   "cell_type": "code",
   "execution_count": 11,
   "id": "52824cb1-cfff-4402-ba86-8376911cfe6e",
   "metadata": {},
   "outputs": [
    {
     "ename": "NameError",
     "evalue": "name 'test_user' is not defined",
     "output_type": "error",
     "traceback": [
      "\u001b[0;31m---------------------------------------------------------------------------\u001b[0m",
      "\u001b[0;31mNameError\u001b[0m                                 Traceback (most recent call last)",
      "Cell \u001b[0;32mIn[11], line 1\u001b[0m\n\u001b[0;32m----> 1\u001b[0m \u001b[43mtest_user\u001b[49m\u001b[38;5;241m.\u001b[39mverify_password(\u001b[38;5;124m\"\u001b[39m\u001b[38;5;124m12qz\u001b[39m\u001b[38;5;124m\"\u001b[39m)\n",
      "\u001b[0;31mNameError\u001b[0m: name 'test_user' is not defined"
     ]
    }
   ],
   "source": [
    "test_user.verify_password(\"12qz\")"
   ]
  },
  {
   "cell_type": "code",
   "execution_count": 7,
   "id": "af051f91-c13c-4141-b5f1-2bcbd681f45b",
   "metadata": {},
   "outputs": [
    {
     "data": {
      "text/plain": [
       "True"
      ]
     },
     "execution_count": 7,
     "metadata": {},
     "output_type": "execute_result"
    }
   ],
   "source": [
    "from dotenv import load_dotenv\n",
    "import os\n",
    "load_dotenv()"
   ]
  },
  {
   "cell_type": "code",
   "execution_count": 8,
   "id": "e133b8b8-9e16-42d2-89ba-aa3fc7266a85",
   "metadata": {},
   "outputs": [],
   "source": [
    "!source .env"
   ]
  },
  {
   "cell_type": "code",
   "execution_count": null,
   "id": "833a3404-6873-42dd-b641-2195fbc2aff2",
   "metadata": {},
   "outputs": [],
   "source": []
  }
 ],
 "metadata": {
  "kernelspec": {
   "display_name": "Python 3 (ipykernel)",
   "language": "python",
   "name": "python3"
  },
  "language_info": {
   "codemirror_mode": {
    "name": "ipython",
    "version": 3
   },
   "file_extension": ".py",
   "mimetype": "text/x-python",
   "name": "python",
   "nbconvert_exporter": "python",
   "pygments_lexer": "ipython3",
   "version": "3.9.7"
  }
 },
 "nbformat": 4,
 "nbformat_minor": 5
}
